{
  "nbformat": 4,
  "nbformat_minor": 0,
  "metadata": {
    "colab": {
      "provenance": [],
      "authorship_tag": "ABX9TyMAVA9SxyD8xeZm2iZCan/j",
      "include_colab_link": true
    },
    "kernelspec": {
      "name": "python3",
      "display_name": "Python 3"
    },
    "language_info": {
      "name": "python"
    }
  },
  "cells": [
    {
      "cell_type": "markdown",
      "metadata": {
        "id": "view-in-github",
        "colab_type": "text"
      },
      "source": [
        "<a href=\"https://colab.research.google.com/github/Agustin-Galarza/socksv5-proxy-protos/blob/main/tp_nlp.ipynb\" target=\"_parent\"><img src=\"https://colab.research.google.com/assets/colab-badge.svg\" alt=\"Open In Colab\"/></a>"
      ]
    },
    {
      "cell_type": "markdown",
      "source": [
        "# Import data"
      ],
      "metadata": {
        "id": "d1hHf-GXpuJl"
      }
    },
    {
      "cell_type": "markdown",
      "source": [
        "### Imports"
      ],
      "metadata": {
        "id": "Ek8dP5DO-Igh"
      }
    },
    {
      "cell_type": "code",
      "source": [
        "!pip install -U -q PyDrive\n",
        "from pydrive.auth import GoogleAuth\n",
        "from pydrive.drive import GoogleDrive\n",
        "from google.colab import auth\n",
        "from oauth2client.client import GoogleCredentials\n",
        "from dataclasses import dataclass\n",
        "import json\n",
        "from typing import Dict, List\n",
        "from pandas import DataFrame"
      ],
      "metadata": {
        "id": "EY4eLXqfppZq"
      },
      "execution_count": null,
      "outputs": []
    },
    {
      "cell_type": "markdown",
      "source": [
        "## Get credentials to acces the drive folder"
      ],
      "metadata": {
        "id": "ovlYOc249dFF"
      }
    },
    {
      "cell_type": "code",
      "source": [
        "auth.authenticate_user()\n",
        "gauth = GoogleAuth()\n",
        "gauth.credentials = GoogleCredentials.get_application_default()\n",
        "drive = GoogleDrive(gauth)"
      ],
      "metadata": {
        "id": "Lw1yVbk4-Guk"
      },
      "execution_count": null,
      "outputs": []
    },
    {
      "cell_type": "markdown",
      "source": [
        "## Read file and store all the parsed programs"
      ],
      "metadata": {
        "id": "LQ3WjTJU9ick"
      }
    },
    {
      "cell_type": "code",
      "source": [
        "REPOS_TO_SCAN = -1\n",
        "FILES_PER_REPO = -1\n",
        "filename = \"Repos_TypeScriptJan2022_duplicates_removed3.jsonl\"\n",
        "\n",
        "files: List[List[str]] = []\n",
        "with open(f\"../corpus/ts_dataset/datafiles/raw_corpus/{filename}\") as dataset:\n",
        "    for line_no, line in enumerate(dataset):\n",
        "        if REPOS_TO_SCAN != -1 and line_no == REPOS_TO_SCAN:\n",
        "            break\n",
        "        repository = json.loads(line)\n",
        "        filesdata: Dict = repository.get(\"filedata\")\n",
        "        for i, file in enumerate(filesdata.values()):\n",
        "            if FILES_PER_REPO != -1 and i == FILES_PER_REPO:\n",
        "                break\n",
        "            tokens = file.get(\"tokens\")\n",
        "            files.append(tokens)"
      ],
      "metadata": {
        "id": "X7EOAMnGtNIr"
      },
      "execution_count": null,
      "outputs": []
    },
    {
      "cell_type": "markdown",
      "source": [
        "## Function and type definitions"
      ],
      "metadata": {
        "id": "VNl7O38j91FC"
      }
    },
    {
      "cell_type": "code",
      "source": [
        "@dataclass\n",
        "class FunctionData:\n",
        "    name: str\n",
        "    params: List[str]\n",
        "    block: List[str]\n",
        "err_file = open(\"./errors.log\", \"+a\")\n",
        "\n",
        "def extract_single_function(tokens: List[str]) -> FunctionData:\n",
        "    tokens_copy = tokens[:]\n",
        "    tokens.pop(0)  # remove 'function' keyword\n",
        "    fn_name: str = tokens.pop(0) if tokens[0] != \"(\" else \"anonymous\"\n",
        "    params: List[str] = []\n",
        "\n",
        "    if tokens[0] == \"<\":\n",
        "        while tokens.pop(0) != '>':\n",
        "            pass\n",
        "\n",
        "    # Get args\n",
        "    is_type_def = False\n",
        "    braces: List[str] = []\n",
        "    sharp_braces: List[str] = []\n",
        "    parenthesis: List[str] = []\n",
        "\n",
        "    while True:\n",
        "        token = tokens.pop(0)\n",
        "        if is_type_def:\n",
        "            if token == \"{\":\n",
        "                braces.append(token)\n",
        "            elif token == \"}\":\n",
        "                braces.pop()\n",
        "            elif token == \"<\":\n",
        "                sharp_braces.append(token)\n",
        "            elif token == \">\":\n",
        "                sharp_braces.pop()\n",
        "            elif token == \",\" and len(braces) == 0 and len(sharp_braces) == 0:\n",
        "                is_type_def = False\n",
        "        else:\n",
        "            if token == \"(\":\n",
        "                parenthesis.append(token)\n",
        "            elif token == \")\":\n",
        "                if len(parenthesis) == 0:\n",
        "                    print(\"Bad Parenthesis\", file=err_file)\n",
        "                    print(\"raw:\", \" \".join(tokens_copy[:100]), file=err_file)\n",
        "                    print(\"params:\", params, file=err_file)\n",
        "                    print(\"====================================================================================================================\", file=err_file)\n",
        "                    return None\n",
        "                parenthesis.pop()\n",
        "                if len(parenthesis) == 0:\n",
        "                    break\n",
        "            elif token != \",\" and token != \"{\" and token != \"}\":\n",
        "                params.append(token)\n",
        "            elif token == \":\":\n",
        "                is_type_def = True\n",
        "\n",
        "    if tokens[0] == \";\":\n",
        "        return None\n",
        "    braces.clear()\n",
        "    sharp_braces.clear()\n",
        "    body_tokens: List[str] = []\n",
        "\n",
        "    for token in tokens:\n",
        "\n",
        "        body_tokens.append(token)\n",
        "\n",
        "        # Parse function body\n",
        "        if token == \"{\" or token.startswith(\"{\"):\n",
        "            braces.append(token)\n",
        "        elif token == \"}\" or token.endswith(\"}\"):\n",
        "            if len(braces) == 0:\n",
        "                print(\"Bad Program\", file=err_file)\n",
        "                print(\"raw:\", \" \".join(tokens_copy[:200]), file=err_file)\n",
        "                print(\"params:\", params, file=err_file)\n",
        "                print(\"body:\", body_tokens, file=err_file)\n",
        "                print(\"====================================================================================================================\", file=err_file)\n",
        "                return None\n",
        "            braces.pop()\n",
        "            if len(braces) == 0:\n",
        "                return FunctionData(fn_name, params, body_tokens)\n",
        "\n",
        "        elif token == \"<\":\n",
        "            sharp_braces.append(token)\n",
        "\n",
        "    print(\"Bad Parsing\", file=err_file)\n",
        "    print(\"last token:\", file=err_file)\n",
        "    print(\"raw:\", \" \".join(tokens_copy[:200]), file=err_file)\n",
        "    print(\"params:\", params, file=err_file)\n",
        "    print(\"body:\", body_tokens, file=err_file)\n",
        "    print(\"====================================================================================================================\", file=err_file)\n",
        "    return None\n",
        "\n",
        "def extract_functions(file: List[str]) -> List[FunctionData]:\n",
        "    functions: List[FunctionData] = []\n",
        "\n",
        "    token_no = 0\n",
        "    while token_no < len(file):\n",
        "        token = file[token_no]\n",
        "        if token == \"function\":\n",
        "            try:\n",
        "                extracted_fn: FunctionData = extract_single_function(file[token_no:])\n",
        "                functions.append(extracted_fn)\n",
        "            except:\n",
        "                print(\"Unexpected error\", file=err_file)\n",
        "                print(\" \".join(file[token_no:token_no+200]), file=err_file)\n",
        "                print(\"====================================================================================================================\", file=err_file)\n",
        "\n",
        "        token_no += 1\n",
        "    return [fn for fn in functions if fn is not None]\n"
      ],
      "metadata": {
        "id": "sxA0MdjXpqkR"
      },
      "execution_count": null,
      "outputs": []
    },
    {
      "cell_type": "markdown",
      "source": [
        "## Manipulate Data"
      ],
      "metadata": {
        "id": "-fsJkNQO-Vy7"
      }
    },
    {
      "cell_type": "code",
      "source": [
        "functions: List[FunctionData] = []\n",
        "for file in files:\n",
        "    functions.extend(extract_functions(file))\n",
        "\n",
        "df = DataFrame(functions)\n",
        "\n",
        "df.to_csv(\"corpus.csv\")"
      ],
      "metadata": {
        "id": "7Mb_cXhz-cV6"
      },
      "execution_count": null,
      "outputs": []
    }
  ]
}